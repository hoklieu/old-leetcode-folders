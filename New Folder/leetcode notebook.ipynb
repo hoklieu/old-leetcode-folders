{
 "cells": [
  {
   "cell_type": "code",
   "execution_count": null,
   "metadata": {
    "collapsed": true
   },
   "outputs": [],
   "source": [
    "150. reverse polish notation\n",
    "1.如果用正则表达式，注意匹配数字的负号和负，区分如下：\n",
    "（import java.util.regex.Pattern(一定要有！)\n",
    "for (String s : tokens):\n",
    "    if Pattern.matches(\"[-]{0,1}[0-9]{1,}\") {\n",
    "        ...\n",
    "    }\n",
    "2.Integer.parseInt(String s) //string to int\n",
    "3.这个题最好的方式是先判断是不是负号，其余的直接push（省的正则表达式那里出错）\n",
    "4.import java.util.Stack;"
   ]
  },
  {
   "cell_type": "code",
   "execution_count": null,
   "metadata": {
    "collapsed": true
   },
   "outputs": [],
   "source": [
    "4.median of two sorted array\n",
    "1、似乎不难（一定是错觉嗯），最关键的地方就是搞明白三种case\n",
    "2、i，j下标这种东西还是记住吧\n",
    "3、思考一下，如果不是中位数，而是第k大呢（呵呵呵呵呵呵呵）"
   ]
  },
  {
   "cell_type": "markdown",
   "metadata": {},
   "source": [
    " 224.basic calculator（reverse polish notation后续）\n",
    " 1.按括号分层运算吧...\n",
    " 2.char 转 int：\n",
    " (int)(chars - '0') (前提是知道这是0-9）\n",
    " 3.默认输入一个数不止一位的.."
   ]
  },
  {
   "cell_type": "code",
   "execution_count": null,
   "metadata": {
    "collapsed": true
   },
   "outputs": [],
   "source": [
    "6.zigzag conversion...(一脸懵逼)\n",
    "char[] c = str.toCharArray()\n",
    "StringBuffer屌的嘞。。。既可以append char又可以append StringBuffer类元素（而每一个元素实际是一个默认长度16的StringBuffer（数组）吧）\n",
    "StringBuffer有点意思，是个mutable的String的类似类\n",
    "变回string： SB.toString()\n",
    "主要是原题给的例子不明朗...其实这个题蛮简单的"
   ]
  },
  {
   "cell_type": "code",
   "execution_count": null,
   "metadata": {
    "collapsed": true
   },
   "outputs": [],
   "source": [
    "38.count and say ???\n",
    "不太懂。。。回来看代码\n"
   ]
  },
  {
   "cell_type": "code",
   "execution_count": null,
   "metadata": {
    "collapsed": true
   },
   "outputs": [],
   "source": [
    "11.container with most water (中间可以有么？可以)\n",
    "这个题给人的感觉是数学题，大概就是从两头向中间并找一个面积的最大值（中间大概有两种证明方法，一个反证法一个画图，画图的还没看）"
   ]
  },
  {
   "cell_type": "code",
   "execution_count": null,
   "metadata": {
    "collapsed": true
   },
   "outputs": [],
   "source": [
    "42.trapping water(这个是11的变种题，这个才是难题...)"
   ]
  },
  {
   "cell_type": "code",
   "execution_count": null,
   "metadata": {
    "collapsed": true
   },
   "outputs": [],
   "source": [
    "12.integer to roman\n",
    "罗马数字表示法：\n",
    "1.同一个不能超过三次\n",
    "2.左减右加\n",
    "3.各个对应关系：I:1 V:5 X:10 L:50 C:100 D:500 M:1000\n",
    "(???为什么base选择是1，4，5，9？) 有趣...影响不大...我又加了个60 （哦其实so easy: 别差出3以上就好）所以最好的就是1，4，5，9（6没用）b\n",
    "下一个挑战：\n",
    "integer to English words(竟然不是roman to integer... 哦有这个题是个easy，确实easy= =)"
   ]
  },
  {
   "cell_type": "code",
   "execution_count": null,
   "metadata": {
    "collapsed": true
   },
   "outputs": [],
   "source": [
    "10.regular expression match( for \".\" and \"*\")\n"
   ]
  },
  {
   "cell_type": "code",
   "execution_count": null,
   "metadata": {
    "collapsed": true
   },
   "outputs": [],
   "source": [
    "15.3 sum (问题来了：怎么去重呢。。 比如 -4 -1 -1 -1 0 1 2) （再思考： backtracking 能做么？）\n",
    "自己的解法：好惨。。。\n",
    "首先有些要注意的地方：自己用了set来记录这个数据是否被放进去了\n",
    "其次呢为了防止-2 -1 0 1 2 这种数据，在res = sum的时候，不管加不加，不能跳出while循环！因为还要判断下面有没有...所以lo++ hi--\n",
    "\n",
    "看一下标准答案吧自己的太慢了。。。：\n",
    "最大的区别就是处理了元素相同的情况...而且这样的话他们也不用再放一个set了，回来研究一下。。。"
   ]
  },
  {
   "cell_type": "code",
   "execution_count": null,
   "metadata": {
    "collapsed": true
   },
   "outputs": [],
   "source": [
    "16. 3 closest sum... （最接近的一组解，不一定是能达到。。。真是闲的蛋疼orz）\n",
    "几个要点：\n",
    "1.一个是result记录上一次的，一个是sum记录本次的，如果abs小则更新result为sum (这样就巧妙的解决了不知道是大是小的问题，稳)\n",
    "2.记得先排序= =\n",
    "3.为了防止core dump，记得检查是否有三个元素"
   ]
  },
  {
   "cell_type": "code",
   "execution_count": null,
   "metadata": {
    "collapsed": true
   },
   "outputs": [],
   "source": [
    "24.reverse adjancent pair(em 第一次一次过的medium...)"
   ]
  },
  {
   "cell_type": "code",
   "execution_count": null,
   "metadata": {
    "collapsed": true
   },
   "outputs": [],
   "source": [
    "25.reverse nodes in K-group（这个题就是hard了...)\n",
    "(怎么感觉就是写个reverse list？)\n",
    "(不太一样...)"
   ]
  },
  {
   "cell_type": "code",
   "execution_count": null,
   "metadata": {
    "collapsed": true
   },
   "outputs": [],
   "source": [
    "33.search in rotated sorted array\n",
    "(找轴点+binarysearch（两个分支哦）)\n",
    "\n",
    "等一下。。。好像别人有直接二分法的？？"
   ]
  },
  {
   "cell_type": "code",
   "execution_count": null,
   "metadata": {
    "collapsed": true
   },
   "outputs": [],
   "source": [
    "29.Divide two Integers\n",
    "(without using multiplication, division or mod operator ...???)\n",
    "math and binary search??"
   ]
  },
  {
   "cell_type": "markdown",
   "metadata": {},
   "source": [
    "### 199.binary right side view() （还不错，level order traverse 实力复习一波~）\n",
    "额这个题目跟之前那个level order traverse简直如出一辙咯...就当是复习一遍了（毕竟再写一遍还是出了点问题...）\n",
    "1.好烦啊ll嵌套的声明到底要怎么搞啊啊啊啊...这里暂且苟住 （更新：已经不是苟住了，最简单的写法）\n",
    "List<List<Integer>> result = new LinkedList();\n",
    "(这个写法是肯定没错的...)\n",
    "2.bfs里面，level从1开始给吧...然后如果level>result.size()的话就add，最后取得时候可是取得\n",
    "result.get(level - 1)! (哈哈哈哈啊)"
   ]
  },
  {
   "cell_type": "markdown",
   "metadata": {},
   "source": [
    "### 34. search in a range （重复有序序列） （这个真是个好题！）\n",
    "(这个题给人的感觉就是一道经典题...)\n",
    "(一个往左逼近，一个往右逼近？)\n",
    "(实力复习一波：searchToLeft 和 searchToRight) 关键是两个helper function怎么选择mid以及如何向一边逼近\n",
    "真是厉害了我的哥。。。\n",
    "\n",
    "大概的思路就是：\n",
    "向左逼近，当发现包含等的情况时，hi = mid；\n",
    "向右逼近，当发现包含等的情况时，lo = mid；\n",
    "另外一个不同： 向左的时候mid正常，向右的时候mid要加1再除以2\n",
    "\n",
    "共同点：退出时hi = lo，判断是否等于target"
   ]
  },
  {
   "cell_type": "markdown",
   "metadata": {},
   "source": [
    "## 下一个题：278 （666竟然搞什么API应用）\n",
    "java 初始化int[] 数组。。。new int[n]\n",
    "\n",
    "WTF....\n",
    "一个easy竟然做了超过5分钟。。。\n",
    "首先你要明白： 二分法之前你做的 都是错的！！  mid: (lo + (hi - lo) / 2) （这个题就卡死在overflow半天）\n",
    "只有python没有overflow\n",
    "其次，你要明白，都用API了，不就是为了简单，你还建一个数组？？？naive\n",
    "心得：简单题别嘚瑟，想想舒婷告诫你的话，要认真不然你会死很惨"
   ]
  },
  {
   "cell_type": "code",
   "execution_count": null,
   "metadata": {
    "collapsed": true
   },
   "outputs": [],
   "source": [
    "36.vaid sudoku （对已经填好的格子判断是否是valid sudoku）\n",
    "只能用hash table了是不(其实是 hashset)\n",
    "还有一点哦 这个一定是9*9的大棋盘\n",
    "自己没想到的一点：对行 列 遍历的时候，不仅可以处理行，改掉下标序号还可以处理列\n",
    "至于cube的情况 兄弟 我啥也不说了你就是个白痴"
   ]
  },
  {
   "cell_type": "markdown",
   "metadata": {},
   "source": [
    "### 4.median of two arrays(em... not easy for me)"
   ]
  },
  {
   "cell_type": "code",
   "execution_count": null,
   "metadata": {
    "collapsed": true
   },
   "outputs": [],
   "source": [
    "69.int sqrt (binary search)\n",
    "标准二分或者牛顿法\n",
    "\n",
    "1.原来写个while true就不用在while循环结束以后再强行加个返回值了\n",
    "2.为了防止m*m overflow写成 m > x / m这样的形式来判断大还是小\n"
   ]
  },
  {
   "cell_type": "markdown",
   "metadata": {},
   "source": [
    "### 50.power （x,n）(这个也是binary search？？)\n",
    "有趣，还是方法多多：\n",
    "1.一般的递归，时间复杂度n，但是空间估计要爆炸（所以不用）\n",
    "2.二分的方法进行递归：if n % 2 == 0 , return pow(x,n/2)*pow(x,n/2)否则呢return pow(x,n/2)*pow(n - n/2) (base case 还是n=1和0)\n",
    "3.位运算扫描，比如n = 100101，那么相当于x^1 * x^4 * x^32，这个时候只要每次n>>=1同时x=x^x然后如果n&1 = 1的话就ans * x，这样应该是\n",
    "最快的（log(n) + 位运算\n",
    "\n",
    "几个corner case：\n",
    "1.x == 0的时候，n整数才有意义（返回1），负数没意义\n",
    "2.n = -Integer.MIN_VALUE(-2147483648)的时候，-n不是Integer.MAX_VALUE(2147483647),要加个1（呵呵呵呵呵）（而且千万不能用\n",
    "-Integer.MIN_VALUE(没有任何意义这个不是primitive type）\n",
    "3.for循环的写法(这个题挺有代表性的)"
   ]
  },
  {
   "cell_type": "code",
   "execution_count": null,
   "metadata": {
    "collapsed": true
   },
   "outputs": [],
   "source": [
    "372.super power (幂指数给的是位数形式的数组，然后还有mod1337？？)\n",
    "1337没啥玄机，就是怕结果太大表示不了（不过模运算是不是可以用位运算代替？）\n",
    "思路: 需要用到的数学知识\n",
    "\n",
    "1. a^b % 1337 = (a%1337)^b % 1337\n",
    "\n",
    "2. xy % 1337 = ((x%1337) * (y%1337)) % 1337, 其中xy是一个数字如:45, 98等等\n",
    "\n",
    "其中第一个公式可以用来削减a的值, 第二个公式可以将数组一位位的计算, 比如 12345^678, 首先12345可以先除余1337, 设结果为X, 则原式就可以化为: "
   ]
  },
  {
   "cell_type": "code",
   "execution_count": null,
   "metadata": {
    "collapsed": true
   },
   "outputs": [],
   "source": [
    "43.multiply strings （就是一个位加法计数器）\n",
    "Character.getNumericValue(char a):return int\n",
    "toCharArray\n",
    "字符串就是玩下标\n",
    "\n",
    "很多的corner case：\n",
    "很多的位的0（最后一位要返回哦）\n",
    "循环出来以后，还有前几位没有进位处理过\n"
   ]
  },
  {
   "cell_type": "code",
   "execution_count": null,
   "metadata": {
    "collapsed": true
   },
   "outputs": [],
   "source": [
    "258.add digits（一位一位加，加完再加，直到只剩下一位数字）\n",
    "好无聊的题，是有一个formula的：(怎么来的：对着0，1，2，。。。写对应的结果，发现是以9为周期的结果)\n",
    "dr(n) = 1 + (n - 1) % 9 （n：root dr：digital root）\n",
    "\n",
    "202.happy number\n",
    "int 和 string 相互转化：\n",
    "int = Integer.parseInt(String)\n",
    "int i = Integer.valueOf(str).intValue();\n",
    "\n",
    "String str = String.valueOf(int n)\n",
    "String str = Integer.toString(int n);\n",
    "String s = \"\" + i;\n",
    "\n",
    "这个用一个hashset就行，到了一就返回，！add（temp）就返回false\n",
    "\n",
    "263.ugly number\n",
    "好无聊的题就一个一个去除就好了。。(注意非正数都不是)\n",
    "264.ugly number（2）\n",
    "找第n个ugly number\n",
    "（我们先来复习一下找第n个质数）"
   ]
  },
  {
   "cell_type": "markdown",
   "metadata": {},
   "source": [
    "### 快速筛法求1-n内的所有质数\n",
    "首先，求质数的最暴力的方法：对于每一个数，用不超过他的sqrt的值一个一个去轮除（很蠢）\n",
    "\n",
    "所以有了快速筛法：\n",
    "这里我们选了第二种优化的：\n",
    "eg: N = 30\n",
    "首先 算分配多少个空间给这之内的所有从3开始的奇数: (30 - 2) / 2 = 14\n",
    "int prime = new int[(N - 2) / 2]; (3 到29)\n",
    "然后赋值:\n",
    "for (int i = 0; i < prime.length; i++) {\n",
    "    prime[i] = true; # //2 * i + 3;\n",
    "    }\n",
    "然后从头开始判断，直到2* i + 3 > sqrt(N);\n",
    "for (int i = 0; 2 * i + 3 <= N; i++) {\n",
    "    if (prime[i]) {\n",
    "        for (int j = i + (2*i+3);j<prime.length;j+=（2*i+3)) {\n",
    "                prime[j] = false;\n",
    "            }\n",
    "        }\n",
    "    }\n",
    "最后把prime里true的东西返回出来，头上再加个2，就是N之内的所有素数了\n"
   ]
  },
  {
   "cell_type": "code",
   "execution_count": null,
   "metadata": {
    "collapsed": true
   },
   "outputs": [],
   "source": [
    "附上AC代码：\n",
    "private static int[] findPrime(int N) {\n",
    "    boolean[] prime = new boolean[(N - 2) / 2];\n",
    "#     for (int i = 0; i < prime.length; i++) {\n",
    "#         prime[i] = true;\n",
    "#     }\n",
    "    #直接来一个Arrays.fill(boolean[], bool)\n",
    "    #别忘了！\n",
    "    Arrays.fill(prime,true);\n",
    "    for (int i = 0; 2*i + 3 <= Math.sqrt(N); i++) {\n",
    "        if (prime[i]) {\n",
    "            for (int j = i + (2*i+3); j < prime.length; j+=(2*i+3)) {\n",
    "                prime[j] = false;\n",
    "            }\n",
    "        }\n",
    "    }\n",
    "    int count = 0;\n",
    "    for (int k = 0; k < prime.length; k++) {\n",
    "        if (prime[k])\n",
    "            count++;\n",
    "    }\n",
    "    int[] res = new int[count];\n",
    "    count = 0;\n",
    "    for (int l = 0; l < prime.length; l++) {\n",
    "        if (prime[l])\n",
    "            res[count++] = 2*l+3;\n",
    "    }\n",
    "    return res;\n",
    "    }\n",
    "}\n"
   ]
  },
  {
   "cell_type": "code",
   "execution_count": null,
   "metadata": {
    "collapsed": true
   },
   "outputs": [],
   "source": [
    "204.count prime nums\n",
    "这个题一个easy还是在我搞明白了线性筛以后还是做了半天。。。\n",
    "因为它要求的是less than n，所以之前我算数组长度那里处了问题\n",
    "正确的数组长度是： （n - 4) / 2 + 1（就是一个等差数列求项数啊...)尼玛嗨 （n - 1 - 3）/ 2 + 1\n",
    "然后再做就好了 (但是这个时候的n要大于3，所以<=3都是corner case)\n",
    "(还不如一个一个数比3大于等于的有几个来的方便。。。)"
   ]
  },
  {
   "cell_type": "markdown",
   "metadata": {},
   "source": [
    "### 264.ugly number（2） （dynamic programming， heap， math。。。看到标签我发现我不会做）\n",
    "dp的方法（这跟heap有毛线关系。。。)\n",
    "类似于实现merge sort的过程，每次添加下面的小的：（但是要注意： 乘的只能是ugly number的2，3，5倍。。。所以体现在代码里就是从res里找数）\n",
    "1x2,2x2,3x2,4x2,5x2,6x2,8x2 (没有7！）\n",
    "题目也给了提示：前十个里面的ugly number：\n",
    "1, 2, 3, 4, 5, 6, 8, 9, 10, 12 也没有7，11！\n",
    "所以更新因子的时候，是： factor2 = 2 * ugly[++index2];\n",
    "\n"
   ]
  },
  {
   "cell_type": "markdown",
   "metadata": {},
   "source": [
    "### 25.merge k sorted lists (from merge 2 sorted lists, but you can also use a priority queue)\n",
    "method 1: merge sort(derived from merge two lists)\n",
    "System.arraycopy(src, beg, des, beg, length)\n",
    "method 2: use priority queue (速度超级慢但是写起来很容易，毕竟是STL嘛）\n",
    "(要注意的地方：priority默认是最小堆，以及如何应用的细节，正好是第一次用priority heap）\n",
    "注意的地方：非null才能放入priority queue，以及要重写compare （return Integer.compare(l1.val, l2.val))\n",
    "\n",
    "priorityqueue的用法和几个method:\n",
    "初始化： Comparator。。。\n",
    "Compatator<ListNode> comp = new Comparator<ListNode>(){\n",
    "    @Override\n",
    "    public int compare(LN l1,LN l2) {\n",
    "        return Integer.compare(l1.val,l2.val);\n",
    "    }\n",
    "};别忘了最后的分号\n",
    "PriorityQueue<ListNode> pq = new PriorityQueue<ListNode>(int size, comp);\n"
   ]
  },
  {
   "cell_type": "markdown",
   "metadata": {},
   "source": [
    "###  总结一下单链表的list操作基本上就两个： list.next = list....,然后list = list.next;"
   ]
  },
  {
   "cell_type": "code",
   "execution_count": null,
   "metadata": {
    "collapsed": true
   },
   "outputs": [],
   "source": [
    "633.sum of square numbers\n",
    "Given a non-negative integer c, your task is to decide whether there're two integers a and b such that a2 + b2 = c.\n",
    "类型： two pointers\n",
    "注：Math.sqrt返回的是double,所以应该用floor来找不大于这个double的最大double\n",
    "这个题好扯= =0也算一个数"
   ]
  },
  {
   "cell_type": "code",
   "execution_count": null,
   "metadata": {
    "collapsed": true
   },
   "outputs": [],
   "source": [
    "169.majority element\n",
    "这个题...好像排第一的那个是用了一个paper的黑科技却没有引用（Moore voting algorithm）/额，直接sort然后return length/2就行233\n",
    "但是 最屌的还是那个 bit manipulation，也是我要掌握的：\n",
    "把一个int分成一个32bit的int[]，然后去vote。最后reconstruct （split and reconstructing）\n",
    "（为什么是easy，因为输入是一定保证存在一个数出现次数大于floor（n/2）的）eg：7个数就是最少出现了4次\n",
    "(额一个注意的地方：(v&1)==1)这个&的优先级低，要括起来= ="
   ]
  },
  {
   "cell_type": "markdown",
   "metadata": {},
   "source": [
    "### 229.majority element  (要求提高，难度增加一个档次) （最后拓展到找次数大于n/k的，那个程序真的牛，掌握！）\n",
    "appear more than ⌊ n/3 ⌋ times. The algorithm should run in linear time and in O(1) space.\n",
    "好吧不得不学会这个Moore Voting Algorithm...嗨嗨\n",
    "不过懂了以后发现这个东西确实有用的：比如说在实验结果里设定一个阈值，超过这个范围的就认为是对的（n/3 for example）\n",
    "\n",
    "傻逼了。。。第一遍用k-1个count和candidate是找可能存在的结果，第二遍还得遍历一下确认个数确实是大于n/k个。。。\n",
    "\n",
    "然后呢。。。确实可以写出一个n/k的东西（最大的结果数是k - 1）\n",
    "有一点需要注意:\n",
    "在遍历的时候的判断顺序：先判断是不是candidate，然后再判断count是不是==0，最后都不是再去减\n",
    "所以第二个答案里面的那个程序，写的真是好 （必须自己再 implement一遍，然后就彻底掌握这个题了）"
   ]
  },
  {
   "cell_type": "code",
   "execution_count": null,
   "metadata": {
    "collapsed": true
   },
   "outputs": [],
   "source": [
    "171.excel column number"
   ]
  },
  {
   "cell_type": "code",
   "execution_count": null,
   "metadata": {
    "collapsed": true
   },
   "outputs": [],
   "source": [
    "231.power of two (只有最高位是1？bit manipulation?)\n",
    "好吧他这个case是非正数都不是，但是他没有判断负指数幂的情况= =\n",
    "额最简答的情况：\n",
    "直接return ！n&(n-1) (只有1在最高位的时候才会是1咯，厉害哦)\n",
    "引申一下，326 power of 3和342 power of 4 （都是问能不能不用for loops 和 recursion做出来）"
   ]
  },
  {
   "cell_type": "code",
   "execution_count": null,
   "metadata": {
    "collapsed": true
   },
   "outputs": [],
   "source": [
    "191.number of 1 bits （这个题是把int按成unsigned int处理的，所以它的corner case就是那个最大的正数（其实是负的），所以判断不能用n>0\n",
    "而是用n！=0\n",
    "这个是复习了一下java里的int：\n",
    "In Java we need to put attention on the fact that the maximum integer is 2147483647. \n",
    "Integer type in Java is signed and there is no unsigned int. So the input 2147483648 is represented\n",
    "in Java as -2147483648 (in java int type has a cyclic representation, that means \n",
    "Integer.MAX_VALUE+1==Integer.MIN_VALUE).\n",
    "This force us to use\n",
    "\n",
    "n!=0\n",
    "in the while condition and we cannot use\n",
    "\n",
    "n>0\n",
    "\n",
    "另外，>> 和 >>>的区别：后者是无符号右移，最高位补0，所以要用这个"
   ]
  },
  {
   "cell_type": "code",
   "execution_count": null,
   "metadata": {
    "collapsed": true
   },
   "outputs": [],
   "source": [
    "190.reverse bits\n",
    "一些声音： java做bit manipulation有意义么？（一般embedded system这种low level的地方才会用bit manipulation）\n",
    "\n",
    "class Solution {\n",
    "public:\n",
    "    uint32_t reverseBits(uint32_t n) {\n",
    "        n = (n >> 16) | (n << 16);\n",
    "        n = ((n & 0xff00ff00) >> 8) | ((n & 0x00ff00ff) << 8);\n",
    "        n = ((n & 0xf0f0f0f0) >> 4) | ((n & 0x0f0f0f0f) << 4);\n",
    "        n = ((n & 0xcccccccc) >> 2) | ((n & 0x33333333) << 2);\n",
    "        n = ((n & 0xaaaaaaaa) >> 1) | ((n & 0x55555555) << 1);\n",
    "        return n;\n",
    "    }\n",
    "};\n",
    "for 8 bit binary number abcdefgh, the process is as follow:\n",
    "\n",
    "abcdefgh -> efghabcd -> ghefcdab -> hgfedcba\n",
    "\n",
    "还是用java的普通的那种右移左移了\n"
   ]
  }
 ],
 "metadata": {
  "kernelspec": {
   "display_name": "Python 3",
   "language": "python",
   "name": "python3"
  },
  "language_info": {
   "codemirror_mode": {
    "name": "ipython",
    "version": 3
   },
   "file_extension": ".py",
   "mimetype": "text/x-python",
   "name": "python",
   "nbconvert_exporter": "python",
   "pygments_lexer": "ipython3",
   "version": "3.6.0"
  }
 },
 "nbformat": 4,
 "nbformat_minor": 2
}
