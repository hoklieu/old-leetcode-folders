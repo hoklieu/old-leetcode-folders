{
 "cells": [
  {
   "cell_type": "code",
   "execution_count": null,
   "metadata": {
    "collapsed": true
   },
   "outputs": [],
   "source": [
    "617.merge two binary tree（虽然没有任何意义的一个merge。。。但是null pointer提示我这个题还是有收获的。。。）\n",
    "啊啊啊啊啊啊啊啊不要访问null的left或者right。。。\n"
   ]
  },
  {
   "cell_type": "code",
   "execution_count": null,
   "metadata": {
    "collapsed": true
   },
   "outputs": [],
   "source": [
    "PATH SUM problems:"
   ]
  },
  {
   "cell_type": "code",
   "execution_count": null,
   "metadata": {
    "collapsed": true
   },
   "outputs": [],
   "source": [
    "最大的一个问题：没说取值是正是负啊，所以要想一个universal的解法么？\n",
    "112. 比较简单的一个（第一遍竟然超时了...我得好好想想）\n",
    "（哦不是超时了 第一个方法是跑完所有的 最后检查set\n",
    "第二个方法是有true 就返回了 （最坏情况一样，但是这样平均下来快一些）\n"
   ]
  },
  {
   "cell_type": "markdown",
   "metadata": {},
   "source": [
    "### HARD: 124. Binary Tree Maximum Path Sum\n"
   ]
  },
  {
   "cell_type": "code",
   "execution_count": null,
   "metadata": {
    "collapsed": true
   },
   "outputs": [],
   "source": [
    "235.Lowest common ancestor of a binary search tree\n",
    "· 应用二叉搜索树的特点：左子树小，右子树大"
   ]
  },
  {
   "cell_type": "code",
   "execution_count": null,
   "metadata": {
    "collapsed": true
   },
   "outputs": [],
   "source": [
    "236.Lowest common ancestor of a binary tree\n",
    "· 这个题无法应用二叉搜索树的性质了"
   ]
  },
  {
   "cell_type": "code",
   "execution_count": null,
   "metadata": {
    "collapsed": true
   },
   "outputs": [],
   "source": [
    "116.populating next right pointers in each node\n",
    "\n",
    "You may only use constant extra space.这句话是啥意思？不能用递归么？\n",
    "（好像是不能用？）"
   ]
  },
  {
   "cell_type": "code",
   "execution_count": null,
   "metadata": {
    "collapsed": true
   },
   "outputs": [],
   "source": [
    "289.Binary Tree Longest Consecutive Sequence\n",
    "额这个比较耿直，直接dfs就行了（因为要的是单向的还得是从parent到child的）"
   ]
  },
  {
   "cell_type": "code",
   "execution_count": null,
   "metadata": {
    "collapsed": true
   },
   "outputs": [],
   "source": [
    "549. Binary Tree Longest Consecutive Sequence II\n",
    "这个就可以是child-parent-child的顺序了，就比较绕了，而且也可以是逆序\n",
    "想想！\n",
    "有的时候 dfs的东西需要一些 fancy的thoughts，比如 一些想象力\n",
    "每一个节点维护一个二维数组：inc和des\n",
    "inc返回的是从这个点开始的增序列的长度\n",
    "dec返回的是从这个点开始的减序列的长度\n",
    "初始都为1， 最后更新的max是inc+dec-1 （环路已经自动包括进入）\n",
    "\n",
    "疯狂输出2333"
   ]
  },
  {
   "cell_type": "code",
   "execution_count": null,
   "metadata": {
    "collapsed": true
   },
   "outputs": [],
   "source": [
    "226.invert binary tree （？？？）\n",
    "交换左右孩子呗。。。这有啥\n",
    "\n",
    "umm， 为了防止潜在的overflow风险（如果用pure递归），可以用一下bfs\n"
   ]
  },
  {
   "cell_type": "code",
   "execution_count": null,
   "metadata": {
    "collapsed": true
   },
   "outputs": [],
   "source": [
    "230. Kth smallest in BST\n",
    "用iterative的时候别忘了一点：while (!stack.empty() || curr != null)\n",
    "否则会出现pop出来root以后stack里暂时没东西了就退出了的情形"
   ]
  },
  {
   "cell_type": "code",
   "execution_count": null,
   "metadata": {
    "collapsed": true
   },
   "outputs": [],
   "source": [
    "671. second minimum in a bt\n",
    "这个binary tree不太一样，root是左右里面小的那一个，找第二小\n",
    "我的方法是dfs咯，找到比val大的就放进res里，最后看有没有"
   ]
  }
 ],
 "metadata": {
  "kernelspec": {
   "display_name": "Python 3",
   "language": "python",
   "name": "python3"
  },
  "language_info": {
   "codemirror_mode": {
    "name": "ipython",
    "version": 3
   },
   "file_extension": ".py",
   "mimetype": "text/x-python",
   "name": "python",
   "nbconvert_exporter": "python",
   "pygments_lexer": "ipython3",
   "version": "3.6.0"
  }
 },
 "nbformat": 4,
 "nbformat_minor": 2
}
