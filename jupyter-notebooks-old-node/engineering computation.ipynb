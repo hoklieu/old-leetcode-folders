{
 "cells": [
  {
   "cell_type": "markdown",
   "metadata": {},
   "source": [
    "### 8.29 Week1\n"
   ]
  },
  {
   "cell_type": "code",
   "execution_count": null,
   "metadata": {
    "collapsed": true
   },
   "outputs": [],
   "source": [
    "middle-level languages: c and c++\n",
    "high-level: bosic, python, pascal,latlab"
   ]
  },
  {
   "cell_type": "code",
   "execution_count": null,
   "metadata": {
    "collapsed": true
   },
   "outputs": [],
   "source": [
    "compilier language vs intepreter language:\n",
    "compilier language: source code is pre-compiled before excuted by pc\n",
    "intepreter: compiled while excuted"
   ]
  },
  {
   "cell_type": "code",
   "execution_count": null,
   "metadata": {
    "collapsed": true
   },
   "outputs": [],
   "source": [
    "high-level vs low-level:\n",
    "    high: build-in functions, limited control of the computer resources\n",
    "    low: nearly total control of the cpu resources"
   ]
  },
  {
   "cell_type": "code",
   "execution_count": null,
   "metadata": {
    "collapsed": true
   },
   "outputs": [],
   "source": [
    "compiler language vs interpreter language:\n",
    "compiler: understood by the processor\n",
    "    the compiler program is not required at run time\n",
    "    fast\n",
    "    c/c++\n",
    "interpreter: runs directly off of the source code\n",
    "    translates into machine code at run time\n",
    "    so interpreter program is required at run time\n",
    "    slow due to translation overhead\n",
    "    Python, basic, java (so you need the java and python env for your programs)"
   ]
  },
  {
   "cell_type": "code",
   "execution_count": null,
   "metadata": {
    "collapsed": true
   },
   "outputs": [],
   "source": [
    "procedure-oriented programming vs object-oriented programming\n"
   ]
  }
 ],
 "metadata": {
  "kernelspec": {
   "display_name": "Python 3",
   "language": "python",
   "name": "python3"
  },
  "language_info": {
   "codemirror_mode": {
    "name": "ipython",
    "version": 3
   },
   "file_extension": ".py",
   "mimetype": "text/x-python",
   "name": "python",
   "nbconvert_exporter": "python",
   "pygments_lexer": "ipython3",
   "version": "3.6.0"
  }
 },
 "nbformat": 4,
 "nbformat_minor": 2
}
