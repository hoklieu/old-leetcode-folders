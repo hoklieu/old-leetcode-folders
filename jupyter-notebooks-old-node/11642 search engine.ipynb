{
 "cells": [
  {
   "cell_type": "code",
   "execution_count": null,
   "metadata": {
    "collapsed": true
   },
   "outputs": [],
   "source": [
    "8.28 Monday lecture 1\n",
    "Heap's law: predict num of unique words"
   ]
  },
  {
   "cell_type": "code",
   "execution_count": null,
   "metadata": {
    "collapsed": true
   },
   "outputs": [],
   "source": [
    "covers: enterprise, web and vertical search (both important in commercial use)"
   ]
  },
  {
   "cell_type": "markdown",
   "metadata": {},
   "source": [
    "### Information retrieval\n",
    "IR: find sth of an unstructured nature\n",
    "in reality, almost no data are truely unstructured\n",
    "IR is also used to facilitate semistructured search\n",
    "also covers: further RI / filter (cluster within classes),\n",
    ",for example: first manually classy then hope to do automatically\n",
    "\n",
    "IR sys can be differed by the scale they operate on:\n",
    "three prominent scales：\n",
    "web search:\n",
    "(massive documents, massive comps, not fooled by contents intending to boost their search engine rankings\n",
    "personal information retrieval: \n",
    "pc's service(spotlight, Win10 instant search), emails\n",
    "\"Distinctive issues\" \n",
    "enterprise,institutional and domain-specific search:\n",
    "R for collections \n",
    "\n",
    "for this book, coverage of some aspects of parallel and distributed search in web-scale is less due to small published literature on details.\n",
    "but a software developer is most likely to encounter the personal search and enterprise scenarios\n"
   ]
  },
  {
   "cell_type": "markdown",
   "metadata": {},
   "source": [
    "### an example IR problem"
   ]
  },
  {
   "cell_type": "code",
   "execution_count": null,
   "metadata": {
    "collapsed": true
   },
   "outputs": [],
   "source": [
    "grepping through text(yes it's the Unix command 'grep')\n",
    "in shakespear's collections\n",
    "\n",
    "need more:\n",
    "1.To process large document collections quickly\n",
    "2.To allow more flexible matching operations\n",
    "3.To allow ranked retrieval"
   ]
  }
 ],
 "metadata": {
  "kernelspec": {
   "display_name": "Python 3",
   "language": "python",
   "name": "python3"
  },
  "language_info": {
   "codemirror_mode": {
    "name": "ipython",
    "version": 3
   },
   "file_extension": ".py",
   "mimetype": "text/x-python",
   "name": "python",
   "nbconvert_exporter": "python",
   "pygments_lexer": "ipython3",
   "version": "3.6.0"
  }
 },
 "nbformat": 4,
 "nbformat_minor": 2
}
