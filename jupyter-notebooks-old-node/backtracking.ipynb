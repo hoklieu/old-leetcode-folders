{
 "cells": [
  {
   "cell_type": "code",
   "execution_count": null,
   "metadata": {
    "collapsed": true
   },
   "outputs": [],
   "source": [
    "17.letter combinations（明明写着backtracking啊。。。这些人不按套路出牌）\n",
    "Character.getNumericValue(str.charAt(i))\n",
    "\n",
    "LinkedList的基本操作：（还要多看）\n",
    "add():add to the last\n",
    "remove()/peek():不声明index都是对head\n",
    "所以基于以上的操作可以把linkedlist当做FIFO的queue使用~\n",
    "LinkedList<String> res = new LinkedList<String>();\n",
    "(这里，前面必须是linkedlist才可以对res进行后续的peek操作，有点懵:要在这里就实例化么？)\n",
    "\n",
    "我觉得这个操作还是很巧妙的...linkedlist操作都是o（1）确实应该比backtracking快吧，所以以后这类枚举的题都可以这样用linkedlist模拟一个FIFO的queue了\n",
    "\n",
    "这个题蛮有意思的...字符串的基本艹作"
   ]
  },
  {
   "cell_type": "code",
   "execution_count": null,
   "metadata": {
    "collapsed": true
   },
   "outputs": [],
   "source": [
    "22. generate valid parenthesis (感觉不用bt遭不住了) (握草自己的method beat了90%的选手，不好的地方就是提交的次数有点多...)\n",
    "StringBuilder删除最后的元素： sb.deleteCharAt(sb.length() - 1)\n",
    "\n",
    "感觉呢bt最重要的是：想清楚所有的分支，而且头一次发现遇到可以两种的操作你就淡定的把bt写两遍就好了...(当然中间别忘了用一个remove去掉上一次的\n",
    "                                                     结果)\n",
    "大概就是这样的：\n",
    "没有数了或者没有右括号了（实际是一种情况...）就add to result然后返回"
   ]
  },
  {
   "cell_type": "markdown",
   "metadata": {},
   "source": [
    "### 31.next permutation（这个题真是看懂费了半天劲...） （但是这个学了一手：字典序~以及思路很清晰的咯）\n",
    "字典序 lexicography 666\n",
    "大概知道是什么意思了：\n",
    "四步： 从右到左找第一个相邻顺序对，左边记为i --> 从右到左找第一个比a[i]大的数，记为a[j] --> 交换a[i],a[j] \n",
    "                                    --> i位置后升序排序(对[i + 1, n - 1]排序，其实就是reverse...) -->完成\n",
    "    \n",
    "\"The replacement must be in-place, do not allocate extra memory.\" ------>这句话怎么理解...局部变量算extra memory么...\n",
    "\n",
    "注意这是个void函数哦\n",
    "\n",
    "6666竟然beat了93%的人...\n",
    "（btw其实这个不是bt的题哈哈但是既然看到了permutation就放过来呗）"
   ]
  },
  {
   "cell_type": "code",
   "execution_count": null,
   "metadata": {
    "collapsed": true
   },
   "outputs": [],
   "source": [
    "combination sum and subsets\n",
    "两个的区别就在于 \n",
    "combination是所有的都用上，顺序不一样\n",
    "subset是会知道总共的子集数目（2^n），具体某个元素有没有那就直接按位运算呗 (当然subset也可以用backtrack：)\n",
    "\n",
    "求子集这边要特别注意的一点就是两个循环的下标：外层是subset数从0 - subset - 1\n",
    "内层是从0 到 elenum - 1表示这一位到底有没有,添加的是这个下标对应的数组元素哦\n",
    "\n",
    "额，发现如果用backtracking的话，跟combination不一样的是结果的添加位置不一样：subset是先加进去然后再把这个扔到下面，而combination是\n",
    "一直到最后才加进去，而且返回条件也不太一样：combination是要求数量够，subset是直到头走一路加一路(别忘了subset这个temp的每次加入result\n",
    "的时候要new一下)"
   ]
  },
  {
   "cell_type": "code",
   "execution_count": null,
   "metadata": {
    "collapsed": true
   },
   "outputs": [],
   "source": [
    "37.sudoku solver （目前的解法是暴力解backtracking...乐文说他还有骚操作可以预处理一下不管了先写出来）\n",
    "诶 这是一个新的backtrace题型，应该说这才是我最开始接触backtrace的时候的那个样子。。。（八皇后）\n",
    "有一个boolean solve(相当于bt)\n",
    "有一个isValid()\n",
    "\n",
    "程序的流程就是：\n",
    "对每个格子，遍历各种情况\n",
    "先判断if isValid，是的话放进去，在solve（相当于recursive）如果按着当前填的数的分支走到头了，那么好咯i，j接着遍历；\n",
    "如果下面的solve失败了(所以solve是一个boolean)，说明这个东西不行，再把它置为'.'然后换下一个数（这样做的一个好处就是：其实你在找到一个解的\n",
    "时候，board已经填好了）\n",
    "\n",
    "这样做的一个问题是：如果要所有的解而不是这个数独明确知道只有一个解呢？那就要改程序让遍历进行到底了呗（也就是要改solve不再是boolean，具体的\n",
    "去八皇后的时候再说）\n",
    "\n",
    "疯了。\n",
    "debug了半天\n",
    "isvalid写错了。\n"
   ]
  },
  {
   "cell_type": "code",
   "execution_count": null,
   "metadata": {
    "collapsed": true
   },
   "outputs": [],
   "source": [
    "46.permutations (又来了个混洗？？？跟combination有啥区别....那个是combination sum。。。这个才是纯正的combination,,,)\n",
    "1:用了一下linkedlist的一个contains的method(有的话continue，没有的话加进去再直接对所有的num[]丢到下一个bt里)\n",
    "permutations 2:(47)(数字源有重复结果不能有orz...)\n"
   ]
  },
  {
   "cell_type": "markdown",
   "metadata": {},
   "source": [
    "### permutations2: good point! how to generate results with no duplicates, even if there are dups in input?\n",
    "# here's the idea: we first sort the input, then we follow the rule: we never break\n",
    "# the order of nums with same values, that way we can guarantee they're used\n",
    "# in their original order!\n",
    "\n",
    "here's the key code:\n",
    "for (int i = 0; i < nums.length; i++) {\n",
    "    if (isUsed[i] || i > 0 && nums[i] == nums[i - 1] && !isUsed[i - 1]) continue;\n",
    "    isUsed[i] = true;\n",
    "    temp.add(nums[i]);\n",
    "    bt(temp,nums,isUsed,count++);\n",
    "    isUsed[i] = false;\n",
    "    temp.remove(temp.size() - 1);\n",
    "}"
   ]
  }
 ],
 "metadata": {
  "kernelspec": {
   "display_name": "Python 3",
   "language": "python",
   "name": "python3"
  },
  "language_info": {
   "codemirror_mode": {
    "name": "ipython",
    "version": 3
   },
   "file_extension": ".py",
   "mimetype": "text/x-python",
   "name": "python",
   "nbconvert_exporter": "python",
   "pygments_lexer": "ipython3",
   "version": "3.6.0"
  }
 },
 "nbformat": 4,
 "nbformat_minor": 2
}
