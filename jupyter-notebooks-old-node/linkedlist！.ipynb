{
 "cells": [
  {
   "cell_type": "code",
   "execution_count": null,
   "metadata": {
    "collapsed": true
   },
   "outputs": [],
   "source": [
    "148.sort list\n",
    "这个题目要求nlog（n），很自然的想到mergesort，但是想了想觉得constant space complexity是达不到的...怎么也是O（logn），就不纠结了s\n",
    "需要注意的地方：\n",
    "那个mergesort找两段的时候有一点tricky，需要三个指针：fast, slow, preTail\n",
    "fast是用来跑到头然后slow就是右半段的开始，而preTail是左半段的尾巴，需要让他的next = null这样就把左右半段分开了\n",
    "然后整体结构就是一个ListNode 的 mergeSort，一个ListNode 的 merge，还是挺清晰的（就是一个merge sort在linkedlist上哈哈）\n",
    "一次AC!"
   ]
  },
  {
   "cell_type": "code",
   "execution_count": null,
   "metadata": {
    "collapsed": true
   },
   "outputs": [],
   "source": []
  }
 ],
 "metadata": {
  "kernelspec": {
   "display_name": "Python 3",
   "language": "python",
   "name": "python3"
  },
  "language_info": {
   "codemirror_mode": {
    "name": "ipython",
    "version": 3
   },
   "file_extension": ".py",
   "mimetype": "text/x-python",
   "name": "python",
   "nbconvert_exporter": "python",
   "pygments_lexer": "ipython3",
   "version": "3.6.0"
  }
 },
 "nbformat": 4,
 "nbformat_minor": 2
}
