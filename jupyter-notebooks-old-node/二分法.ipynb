{
 "cells": [
  {
   "cell_type": "code",
   "execution_count": null,
   "metadata": {
    "collapsed": true
   },
   "outputs": [],
   "source": [
    "164. find peek\n",
    "二分法其实一直都不清晰。这个题给了一个思路：找invariant，根据这个进行分支\n",
    "比如这个题一开始给的就是left > left-1, right > right+1, 根据这个条件一定会存在一个peek（如果单调增就是最右边），如果从左开始减了就是那个；\n",
    "然后根据这些情况去分支\n"
   ]
  }
 ],
 "metadata": {
  "kernelspec": {
   "display_name": "Python 3",
   "language": "python",
   "name": "python3"
  },
  "language_info": {
   "codemirror_mode": {
    "name": "ipython",
    "version": 3
   },
   "file_extension": ".py",
   "mimetype": "text/x-python",
   "name": "python",
   "nbconvert_exporter": "python",
   "pygments_lexer": "ipython3",
   "version": "3.6.0"
  }
 },
 "nbformat": 4,
 "nbformat_minor": 2
}
