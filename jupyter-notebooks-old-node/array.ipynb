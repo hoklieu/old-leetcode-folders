{
 "cells": [
  {
   "cell_type": "code",
   "execution_count": null,
   "metadata": {
    "collapsed": true
   },
   "outputs": [],
   "source": [
    "41.first missing positive integer\n",
    "这个题的所有case没想清楚。。\n",
    "eg{3，2}，return 1\n",
    "{1，2}，return 3\n",
    "{1，0} return 2\n",
    "{0} return 1\n",
    "{1000,-1} return 1\n",
    "诶，所以可以用一个len+1的数组来记录然后找第一个非零的（先不管这个是不是constant space，先ac了再说） (这个是错的= =，见最后一个case)\n",
    "经过修改，发现这个方法还是可行的，而且还很快。。。（所以新开一个数组究竟是不是constant space呢？？）\n",
    "需要注意的地方：根据nums来设置新的数组的标号为1的时候，要看nums的值有没有超过res.length\n",
    "\n",
    "当然了考虑到constant space的问题，我们可以进行优化：不需要新开一个数组，直接把这个数和它应该在的位置进行互换：swap(A[i],A[A[i] - 1）\n",
    "比如5，就换（5,A[5-1]）（当然前提是不越界）\n",
    "让我看看优化以后是不是快了\n",
    "需要注意的地方：互换的那里是个while（必须换完保证当前的i要的就是它应该的数）\n",
    "以及换的条件： 是nums[i] - 1那个位置的数不等于它应该有的数的时候才换（这样就排除了{1,1}一直在换的死循环，真是细思极恐）\n",
    "                                                                          \n",
    "总结下来这个题真的是hard难度的题，因为代码虽然不长但是考虑的corner case太多了而且细节扣的非常死。hard的题就是重细节"
   ]
  },
  {
   "cell_type": "code",
   "execution_count": null,
   "metadata": {
    "collapsed": true
   },
   "outputs": [],
   "source": [
    "448.find all numbers disappeared in an array //感觉跟41题一个套路啊 但是这个简单一些，因为a[i]的范围就是[1,n]\n",
    "果然是easy= =简单粗暴"
   ]
  },
  {
   "cell_type": "code",
   "execution_count": null,
   "metadata": {
    "collapsed": true
   },
   "outputs": [],
   "source": [
    "442.find all duplicates in an array\n",
    "跟448一模一样，输出不同而已。。。"
   ]
  },
  {
   "cell_type": "code",
   "execution_count": null,
   "metadata": {
    "collapsed": true
   },
   "outputs": [],
   "source": [
    "167.Two sum2: input is sorted ???就是个two pointer"
   ]
  },
  {
   "cell_type": "code",
   "execution_count": null,
   "metadata": {
    "collapsed": true
   },
   "outputs": [],
   "source": [
    "653.two sum 5: input is a bst(666这个题还有点意思) （中序遍历一遍然后再按two sum做？？）（或者hash table？？）\n",
    "用linkedlist的method，要声明对啊： LinkedList<Integer> res = new LinkedList<Integer>(); //前面那个必须是linkedlist哦\n",
    "额这个用一个linkedlist就行了而且inorder traverse最好别装逼能用recursion就用recursion哈哈\n",
    "linkedlist可以用get的method！（但是我记得。。。很慢啊）"
   ]
  },
  {
   "cell_type": "code",
   "execution_count": null,
   "metadata": {
    "collapsed": true
   },
   "outputs": [],
   "source": [
    "209.minimum size subarray sum"
   ]
  },
  {
   "cell_type": "code",
   "execution_count": null,
   "metadata": {
    "collapsed": true
   },
   "outputs": [],
   "source": [
    "74.search in a 2d matrix (shit my version is too slow, because i didn't use binary search for row)\n",
    "actually you can treat the whole matrix as a 1-d array and use just binary search, 但是有可能overflow\n",
    "所以对行，列分别进行binary search就好\n",
    "                          这道题是从头到尾都是升续"
   ]
  },
  {
   "cell_type": "code",
   "execution_count": null,
   "metadata": {
    "collapsed": true
   },
   "outputs": [],
   "source": [
    "240.search in a 2d matrix2 \n",
    "这道题是行，列分别升序，但是整体不一定有序\n",
    "这个就不太好想了啊，容我三思\n",
    "好吧= =左下角的东西，大了往上走，小了往右走= =\n",
    "\n",
    "base case的写法： if (matrix == null || matrix.length == 0) return false;\n",
    "378.find kth smallest value in a sorted matrix （还是行，列分别有序，这时候就不能用240题那个比较tricky的方法了，只能老老实实\n",
    "binary search)\n",
    "215.largest kth element in an unsorted array(方法挺多，但是最关键的是快排的那个...)\n",
    "好吧，快排我觉得这次就定下来了吧：我现在的写法就是我以后的写法了\n",
    "\n",
    "我觉得priority queue的方法整天挂在嘴边但其实你并不会写。这两个题都用priority queue的方法做出来（这才是数据结构呢好不。。）\n",
    "### priority这个写的真是好\n",
    "首先展示了如何在leetcode里写一个class，然后用了pq（minimum heap）"
   ]
  },
  {
   "cell_type": "code",
   "execution_count": null,
   "metadata": {
    "collapsed": true
   },
   "outputs": [],
   "source": [
    "373.find k pairs with smallest sums\n",
    "两种写类（重写compare）的方法：\n",
    "法一：\n",
    "class Pair {}\n",
    "class Compar implements Comparator<Pair> {}\n",
    "pq<Pair> pq = new PQ<Pair>(k,new Compar);\n",
    "法二：\n",
    "class Pair implements Comparable<Pair> {\n",
    "    ...\n",
    "    @Override\n",
    "    public int compareTo(Pair p2) {\n",
    "        return Integer.compare(int1,int2);##.....\n",
    "    }\n",
    "}\n",
    "(Comparable 这个类只有一个method就是compareTo()，重写即可)\n",
    "\n",
    "对pq的性质还是不熟\n",
    "只需要把k和nums1的min的个数的pair先放进去，然后poll k次或者直到pq.isEmpty(意味着k大于所有的pair 数)\n",
    "每次poll()的时候更新（不一定非要offer，因为放的相当于是本列的下一个，如果本列没了，直接continue，就和378那个题一样啊）\n",
    "\n",
    "这三道题真的是非常像"
   ]
  },
  {
   "cell_type": "code",
   "execution_count": null,
   "metadata": {
    "collapsed": true
   },
   "outputs": [],
   "source": [
    "209.minimum size subarray sum\n",
    "Given an array of n positive integers and a positive integer s, find the minimal length of a contiguous subarray \n",
    "of which the sum ≥ s. If there isn't one, return 0 instead.\n",
    "\n",
    "For example, given the array [2,3,1,2,4,3] and s = 7,\n",
    "the subarray [4,3] has the minimal length under the problem constraint.\n",
    "\n",
    "找连续的和超过s的最小长度\n",
    "我自己只能想到暴力法（根本就不叫算法...都刷了这么久了还是没思路真是捉急）\n",
    "而看提示，可以o（N)还可以nlog（n）。。\n",
    "\n",
    "等下，有点想法：既然是找连续的最短长度，不如用一个队列？sum维护长度，deque.size()维护个数，min维护最小size的值，最后返回就好\n",
    "这个确实是O（n）的...\n",
    "而nlog（n）的话感觉是要...sort？bs？\n",
    "（用deque不用queue..queue的method太少了，连size都没有。。）\n",
    "再一想，用个linkedlist当queue完全够用，先写！\n",
    "这里有一个要注意的地方：把result先设成Integer.MAX_VALUE,如果最后还是这个（说明没结果，把result改成0）\n",
    "return res==Integer.MAX_VALUE?0:res;\n",
    "\n",
    "答案学习：\n",
    "首先那个o(n)的方法，他用two pointers 代替了我的linkedlist，所以应该会快一些（我先去实现一下）\n",
    "\n",
    "o(nlog(n))的那个方法，比较妙：其实就是找个window （这个题都是整数，所以可以借助o（n）的space维护一个sums数组（单调增），然后去找窗）\n",
    "注意的地方:i=0的时候sums[]和window的那个offset都要单独处理\n",
    "    \n",
    "    finish it！\n",
    "是个好题。。尤其是二分法找window那块儿的函数\n",
    "（i<=j,以及可以两个循环的）"
   ]
  },
  {
   "cell_type": "code",
   "execution_count": null,
   "metadata": {
    "collapsed": true
   },
   "outputs": [],
   "source": [
    "76.HARD minimum window string"
   ]
  }
 ],
 "metadata": {
  "kernelspec": {
   "display_name": "Python 3",
   "language": "python",
   "name": "python3"
  },
  "language_info": {
   "codemirror_mode": {
    "name": "ipython",
    "version": 3
   },
   "file_extension": ".py",
   "mimetype": "text/x-python",
   "name": "python",
   "nbconvert_exporter": "python",
   "pygments_lexer": "ipython3",
   "version": "3.6.0"
  }
 },
 "nbformat": 4,
 "nbformat_minor": 2
}
