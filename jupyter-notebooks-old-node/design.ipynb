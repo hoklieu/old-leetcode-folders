{
 "cells": [
  {
   "cell_type": "code",
   "execution_count": null,
   "metadata": {
    "collapsed": true
   },
   "outputs": [],
   "source": [
    "146. LRU cache\n",
    "要求get和set都是o(1)，所以只用hashmap不行，还得用一个方便moving nodes的数据结构，没错，就是双向列表\n",
    "你需要做的就是get，set了以后把这个node移动到head就好了，如果capacity超了从tail开始删起\n",
    "（当然，实际中，他们直接用的是linkedhashmap，android里的source code用的就是这个）\n",
    "\n",
    "node只需要两个method：delete和addtohead\n",
    "get的时候只需要move node\n",
    "put的时候要分三种情况：在map里，不在的话：capacity是否超标（put写起来比较麻烦）"
   ]
  }
 ],
 "metadata": {
  "kernelspec": {
   "display_name": "Python 3",
   "language": "python",
   "name": "python3"
  },
  "language_info": {
   "codemirror_mode": {
    "name": "ipython",
    "version": 3
   },
   "file_extension": ".py",
   "mimetype": "text/x-python",
   "name": "python",
   "nbconvert_exporter": "python",
   "pygments_lexer": "ipython3",
   "version": "3.6.0"
  }
 },
 "nbformat": 4,
 "nbformat_minor": 2
}
