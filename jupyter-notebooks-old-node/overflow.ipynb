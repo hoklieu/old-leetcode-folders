{
 "cells": [
  {
   "cell_type": "code",
   "execution_count": null,
   "metadata": {
    "collapsed": true
   },
   "outputs": [],
   "source": [
    "integer会overflow， 一个可行的方式是转成long\n",
    "\n",
    "具体操作细节挺多的:\n",
    "原来的upper和lower如果可能是I.MAX 或者I.MIN， 进行加减的时候首先别忘了先把它们进行类型转换\n",
    "写法如下：\n",
    "long temp = (long)lower - 1;\n",
    "long t = (long)upper + 1;\n",
    "\n",
    "这样才能保证出来的数是加或者减"
   ]
  },
  {
   "cell_type": "code",
   "execution_count": null,
   "metadata": {
    "collapsed": true
   },
   "outputs": [],
   "source": [
    "163. missing ranges"
   ]
  },
  {
   "cell_type": "code",
   "execution_count": null,
   "metadata": {
    "collapsed": true
   },
   "outputs": [],
   "source": [
    "228. summary ranges"
   ]
  }
 ],
 "metadata": {
  "kernelspec": {
   "display_name": "Python 3",
   "language": "python",
   "name": "python3"
  },
  "language_info": {
   "codemirror_mode": {
    "name": "ipython",
    "version": 3
   },
   "file_extension": ".py",
   "mimetype": "text/x-python",
   "name": "python",
   "nbconvert_exporter": "python",
   "pygments_lexer": "ipython3",
   "version": "3.6.0"
  }
 },
 "nbformat": 4,
 "nbformat_minor": 2
}
