{
 "cells": [
  {
   "cell_type": "code",
   "execution_count": null,
   "metadata": {
    "collapsed": true
   },
   "outputs": [],
   "source": [
    "初级篇：用最少的硬币凑钱：\n",
    "如果我们有面值为1元、3元和5元的硬币若干枚，如何用最少的硬币凑够11元"
   ]
  },
  {
   "cell_type": "code",
   "execution_count": null,
   "metadata": {
    "collapsed": true
   },
   "outputs": [],
   "source": [
    "代码：(递推型动态规划)\n",
    "class Main {\n",
    "    public static void main(String[] args) {\n",
    "        System.out.println(getnum(14));\n",
    "    }\n",
    "    public static int getnum(int n) {\n",
    "        int[] res = new int[n + 1];\n",
    "        res[0] = 0;\n",
    "        for (int i = 1; i <=n; i++) {\n",
    "            if (5 <= i) {\n",
    "                res[i] = Math.min((1 + res[i - 5]),Math.min((1 + res[i - 3]),1 + res[i - 1]));\n",
    "            } else if ( 3 <= i && i < 5) {\n",
    "                res[i] = Math.min((1 + res[i - 3]),(1 + res[i - 1]));}\n",
    "                else {\n",
    "                res[i] = 1 + res[i - 1];\n",
    "            }\n",
    "        }\n",
    "        return res[n];   \n",
    "    }\n",
    "}"
   ]
  },
  {
   "cell_type": "markdown",
   "metadata": {},
   "source": [
    "### 198. House rubber O(1)space 就好咯，维护前两个dp\n",
    "House rubber 2 额，无非就是两个看谁大\n",
    "House rubber 3：337 这个题太腹黑了。。第一遍以为就是dfs+house rubber结果发现不是相邻层而仅仅是相邻的节点..\n",
    "这个题应该这么做：对一个节点，是返回它呢还是下面的两个呢（不一定是两个），子问题就是对下面的两个都相同的处理\n",
    "有比较暴力的解法，向下递归整个的节点，这样由于没有储存会造成很多overlap，oj也过不了，所以 用dynamic programming啊~ （optimal structure）\n",
    "改进的版本： 用hashmap看看节点有没有被访问过，O（n）space\n",
    "最高级的版本： O（n）时间复杂度 空间也不多：对于每个节点，返回一个二维数组res[2]:\n",
    "    res[0]:使用当前节点的子树的最大值 \n",
    "    res[1]:不使用当前节点的子树的最大值\n",
    "    对于第一种情况：根节点 + 孩子的孩子们的subset (return (root.val + rub(root.left)[1] + rub(root.right)[1]))\n",
    "    对于第二种情况：反正只是不用根节点，孩子们的其实用不用不知道，所以孩子们那边有两种情况：返回用和不用的最大值（return \n",
    "        Math.max(rub(root.left)[0],rub(root.left)[1]) + Math.max(rub(root.right)[0],rub(root.right)[1]) ）\n",
    "    base case: 当前节点为空，返回一个new int[2] （默认值都是0）\n",
    "(第二遍超时了。。。容我三思。。。） （这些的是个杰宝。。。完全没有overlap的任何优化好么）\n",
    "（傻逼了。。。。调用了六次函数，其实分别调一次然后直接用不就行了23333）"
   ]
  },
  {
   "cell_type": "markdown",
   "metadata": {},
   "source": [
    "### House rubber 3：337 这个题太腹黑了。。第一遍以为就是dfs+house rubber结果发现不是相邻层而仅仅是相邻的节点..\n",
    "这个题应该这么做：对一个节点，是返回它呢还是下面的两个呢（不一定是两个），子问题就是对下面的两个都相同的处理\n",
    "有比较暴力的解法，向下递归整个的节点，这样由于没有储存会造成很多overlap，oj也过不了，所以 用dynamic programming啊~ （optimal structure）\n",
    "改进的版本： 用hashmap看看节点有没有被访问过，O（n）space\n",
    "最高级的版本： O（n）时间复杂度 空间也不多：对于每个节点，返回一个二维数组res[2]:\n",
    "    res[0]:使用当前节点的子树的最大值 \n",
    "    res[1]:不使用当前节点的子树的最大值\n",
    "    对于第一种情况：根节点 + 孩子的孩子们的subset (return (root.val + rub(root.left)[1] + rub(root.right)[1]))\n",
    "    对于第二种情况：反正只是不用根节点，孩子们的其实用不用不知道，所以孩子们那边有两种情况：返回用和不用的最大值（return \n",
    "        Math.max(rub(root.left)[0],rub(root.left)[1]) + Math.max(rub(root.right)[0],rub(root.right)[1]) ）\n",
    "    base case: 当前节点为空，返回一个new int[2] （默认值都是0）\n",
    "(第二遍超时了。。。容我三思。。。） （这些的是个杰宝。。。完全没有overlap的任何优化好么）\n",
    "（傻逼了。。。。调用了六次函数，其实分别调一次然后直接用不就行了23333）\n",
    "总之这个题理解的还算不错。。。最后自己发现了愚蠢的地方以及memory的思想，直接在函数内把返回值记在数组里让后用就好了2333（不然干嘛叫优化）"
   ]
  },
  {
   "cell_type": "markdown",
   "metadata": {},
   "source": [
    "### 300.（medium） longest increasing subsequence\n",
    "d[i] = max{1, d[j] + 1} (A[j] <= A[i]) （这个是O(n2)的解法，还要一个O(nlog(n))\n",
    "public class Solution {\n",
    "    public int lengthOfLIS(int[] nums) {\n",
    "        if (nums == null || nums.length == 0) {\n",
    "            return 0;\n",
    "        }\n",
    "        int len = nums.length - 1;\n",
    "        int result = 1;\n",
    "        int[] res = new int[nums.length];\n",
    "        res[0] = 1;\n",
    "        for (int i = 1; i <= len; i++) {\n",
    "            res[i] = 1;\n",
    "            int j = i - 1;\n",
    "            while (j >= 0) {\n",
    "                //so here's the black magic... you should consider two conditions!\n",
    "                if (nums[j] < nums[i] && res[j] + 1 > res[i]) {\n",
    "                    res[i] = res[j] + 1;\n",
    "                }\n",
    "                j--;\n",
    "            }\n",
    "            result = Math.max(result, res[i]);\n",
    "        }\n",
    "        return result;\n",
    "    }\n",
    "}\n",
    "##这个题的需要注意的地方：每个格子先初始化为1，向左扫描，如果nums[j] < nums[i] && res[j] + 1 > res[i]，更新res[i]"
   ]
  },
  {
   "cell_type": "code",
   "execution_count": 2,
   "metadata": {
    "collapsed": true
   },
   "outputs": [
    {
     "ename": "SyntaxError",
     "evalue": "invalid character in identifier (<ipython-input-2-90ee37833c76>, line 1)",
     "output_type": "error",
     "traceback": [
      "\u001b[0;36m  File \u001b[0;32m\"<ipython-input-2-90ee37833c76>\"\u001b[0;36m, line \u001b[0;32m1\u001b[0m\n\u001b[0;31m    300.优化算法（黑科技）\u001b[0m\n\u001b[0m                ^\u001b[0m\n\u001b[0;31mSyntaxError\u001b[0m\u001b[0;31m:\u001b[0m invalid character in identifier\n"
     ]
    }
   ],
   "source": [
    "300.优化算法（黑科技）\n",
    "用了java内置的binarySearch:\n",
    "binarySearch(int[] nums, int beg, int end, int num)\n",
    "返回应该插入位置p的函数：\n",
    "-p - 1\n",
    "所以要复原的话：\n",
    "-（returnValue + 1）\n",
    "public int lengthOfLIS(int[] nums) {\n",
    "    int[] dp = new int[nums.length];\n",
    "    int len = 0;\n",
    "    \n",
    "    for (int x : nums) {\n",
    "        int p = Arrays.binarySearch(dp, 0, len, x);\n",
    "        if (p < 0) {\n",
    "            p = -(p + 1);\n",
    "        }\n",
    "        dp[p] = x;\n",
    "        if (len == p) {\n",
    "            len ++;\n",
    "        }\n",
    "    }\n",
    "    return len;\n",
    "}"
   ]
  },
  {
   "cell_type": "markdown",
   "metadata": {},
   "source": [
    "### 以上的才算初级。。。哈哈哈哈哈哈哈\n",
    "### 中级\n",
    "62. unique paths（？？？中级？？？）\n",
    "（okay they sacrifice space for time = =)\n",
    "一维数组搞定\n",
    "64. minumum paths\n",
    "没啥要太多说的，还是用一个一维数组搞定，只是别忘了更新的时候是d[i] = Math.min(d[i-1], d[i]) + grid[j][i] ...(第一遍j写错了）\n",
    "63.unique paths2\n",
    "加了obstacles！\n",
    "我只能说64最大的坑就是...不是方形 以及 可能输入只有一行。。。 好气哦但还是要面带微笑\n",
    "或者说： 第一行 要小心。。。要小心。。。"
   ]
  },
  {
   "cell_type": "code",
   "execution_count": null,
   "metadata": {
    "collapsed": true
   },
   "outputs": [],
   "source": [
    "3.longest substring without duplication \n",
    "1.substring: consecutive, not subsequence(not consecutive)\n",
    "2.this is not a dp problem, it's more like a container application"
   ]
  },
  {
   "cell_type": "code",
   "execution_count": null,
   "metadata": {
    "collapsed": true
   },
   "outputs": [],
   "source": [
    "5.longest palindromic substring\n",
    "(worst case o(n^2))\n",
    "1、String.substring(int beg, int len)\n",
    "2、好烦这道题。。。就是下标太容易core dump了。。（1.beg，end那里的判断语句：beg >= 0 && end <= length() - 1 && charAt(beg) == charAt(end))\n",
    "(i,i+1的时候也要判断是不是palindromic... 是的话再减 所以最后的beg 和end比真实的分别小一，大一，所以maxLen = end - beg + 1 - 2),\n",
    "以及lo = end + 1.。。 ORZ\n"
   ]
  },
  {
   "cell_type": "code",
   "execution_count": null,
   "metadata": {
    "collapsed": true
   },
   "outputs": [],
   "source": [
    "374,375: guess my number\n",
    "    374:看清题.."
   ]
  },
  {
   "cell_type": "markdown",
   "metadata": {},
   "source": [
    "### 375：guess number(2)\n",
    "wtf直接飙到dynamic programming了...\n",
    "决定了这个周末把dp的题搞定...\n",
    "\n",
    "首先解析题意：need to guarantee a win??? （其实这个题目没有说清楚，但它确实是一个动态规划的题。disscuss里第三个问题已经解答了）\n",
    "\n",
    "相当于在所有选k的结果中挑一个worst的值最小的结果（而且前提是你知道一个所谓的最优策略）\n"
   ]
  },
  {
   "cell_type": "code",
   "execution_count": null,
   "metadata": {
    "collapsed": true
   },
   "outputs": [],
   "source": [
    "55.jump game 1\n",
    "我就不明白为啥[0]也是true了。。（因为start from the first index)\n",
    "好吧，答案的代码更简洁，它直接在for 循环里判断能不能到当前的不行就退出for 循环了"
   ]
  },
  {
   "cell_type": "code",
   "execution_count": null,
   "metadata": {
    "collapsed": true
   },
   "outputs": [],
   "source": [
    "45.jump game 2\n",
    "这个题就是在55的基础上又加了一个step的判断：如果当前能到达的最大小于了i，那么step加加同时更新当前能到达的最大步数"
   ]
  },
  {
   "cell_type": "code",
   "execution_count": null,
   "metadata": {
    "collapsed": true
   },
   "outputs": [],
   "source": [
    "91.decode ways\n",
    "这个题巧妙的地方就在于dp多设置了一位，这样dp[1]对应的是第0位，依次向后类推\n",
    "以及用到了Integer.parseInt(String)来获取一个string字符串对应的Int值"
   ]
  },
  {
   "cell_type": "code",
   "execution_count": null,
   "metadata": {
    "collapsed": true
   },
   "outputs": [],
   "source": [
    "139. word break\n",
    "内外两层for循环，加上一个substring；\n",
    "记得dp设成n+1，dp[0]设为true，然后返回dp[s.length()] == true;"
   ]
  },
  {
   "cell_type": "code",
   "execution_count": null,
   "metadata": {
    "collapsed": true
   },
   "outputs": [],
   "source": [
    "140. word break2\n",
    "竟然要返回所有可能匹配的组合，23333\n",
    "所以要用backtracking的方式了（或者说类似），中间涉及到操作字符串的地方需要注意"
   ]
  }
 ],
 "metadata": {
  "kernelspec": {
   "display_name": "Python 3",
   "language": "python",
   "name": "python3"
  },
  "language_info": {
   "codemirror_mode": {
    "name": "ipython",
    "version": 3
   },
   "file_extension": ".py",
   "mimetype": "text/x-python",
   "name": "python",
   "nbconvert_exporter": "python",
   "pygments_lexer": "ipython3",
   "version": "3.6.0"
  }
 },
 "nbformat": 4,
 "nbformat_minor": 2
}
