{
 "cells": [
  {
   "cell_type": "code",
   "execution_count": null,
   "metadata": {
    "collapsed": true
   },
   "outputs": [],
   "source": [
    "84. find max rectangle\n",
    "\n",
    "for every bin, calculate the max area that contains this bar completely ( 1 or more)\n",
    "so use a stack which maintains an ascending order\n",
    "具体写法： （第二遍写又错了。。）\n",
    "外层 for 循环 i = 0 : n\n",
    "    内层：\n",
    "        更新h (h = (i == n)? 0 : matrix[i])\n",
    "        如果现在这个是之前的那个增序列的next smaller， 算之前的所有的（用一个while)\n",
    "        while (!stack.empty() && h < mat[stack.peek()]) {\n",
    "            int height = mat[stack.pop()]; // 完整包含当前柱子的面积\n",
    "            int len = (stack.empty()? i : i - stack.peek() - 1);\n",
    "            max = Math.max(max, len * height);\n",
    "        } //做完循环以后，看如果stack空了或者下面的大了，push进新的i:\n",
    "        if (stack.empty() || h >= mat[stack.peek()]) {\n",
    "            stack.push(i); // 这里不用i++，因为外层是for 循环\n",
    "        }\n",
    "        "
   ]
  },
  {
   "cell_type": "code",
   "execution_count": null,
   "metadata": {
    "collapsed": true
   },
   "outputs": [],
   "source": [
    "85. 一种方法就是从上到下每一层更新histragram然后分别调rectangle，o(n3)\n",
    "法二： 还没看，用dp吧"
   ]
  },
  {
   "cell_type": "code",
   "execution_count": null,
   "metadata": {
    "collapsed": true
   },
   "outputs": [],
   "source": [
    "221. 跟85一样的题，不一样的是那个是rectangle，这个是square，所以要用dp\n",
    "我总结下来发现长方形的dp不太好理解，用histgram的变形比较好；\n",
    "正方形的没法用histgram，但是dp挺好理解的"
   ]
  },
  {
   "cell_type": "code",
   "execution_count": null,
   "metadata": {
    "collapsed": true
   },
   "outputs": [],
   "source": [
    "42. traping rain water\n",
    "法1: 用stack, if ... else\n",
    "    循环的具体写法：\n",
    "    外层是while(i <= n) {\n",
    "        if (stack.empty() || mat[i] <= mat[stack.peek()]) {\n",
    "            stack.push(i++);\n",
    "        } else { // 一个一个的算\n",
    "                if (!stack.empty()) // 如果左边没了说明在边上了，不要\n",
    "            {\n",
    "                int bot = pop...;\n",
    "                int hei = Min(mat[i], mat[s.peek()]) - mat[bot];\n",
    "                int len = i - s.peek() - 1;\n",
    "                sum += len * hei;\n",
    "            }\n",
    "        }\n",
    "    }\n",
    "法2: two pointers( faster，no more space, recommended)"
   ]
  },
  {
   "cell_type": "code",
   "execution_count": null,
   "metadata": {
    "collapsed": true
   },
   "outputs": [],
   "source": [
    "155. minStack()\n",
    "这是个什么操作？？\n",
    "很有趣 关键在getMin的O(1)上： 为了这样需要维持一个min，方法是对于那些会更改min的操作，push/pop两次并且更新相应的min\n",
    "\n",
    "如果发散一下呢，还可以加一个getMax也是o（1）的，只需要再维护一个max即可"
   ]
  },
  {
   "cell_type": "code",
   "execution_count": null,
   "metadata": {
    "collapsed": true
   },
   "outputs": [],
   "source": [
    "316. remove duplicate letters\n",
    "这个题要求好骚的，求的是原来的subsequence(就是要保持原来的顺序）,而且还得是lexiographical order最小的，所以小的尽量往前整\n",
    "我的注释写的挺不错，大体上来说就是三个数据结构：\n",
    "         // keep a count array to keep track of whether there're latter occurrances of the letter\n",
    "        // use a stack to keep track of a increasing subsequence of the original one (to keep original order as much as possible)\n",
    "        // that's all we need for the data structures\n",
    "        \n",
    "        // one thing to be noticed: when to decrease the count: every time you meet with it, whether pass or push\n",
    "        // so the pop don't modify the count[] array, there's one mistake line in yur origina version\n",
    "需要注意的一点就是：遇到一个char的时候count的时候立马减，所以pop()的时候不要再重复减了\n",
    "这个题挺不错的。"
   ]
  },
  {
   "cell_type": "code",
   "execution_count": null,
   "metadata": {
    "collapsed": true
   },
   "outputs": [],
   "source": [
    "224. basic calculator\n",
    "这个题目关键是如何处理每个符号：stack存两个东西，result和sign\n",
    "比较tricky的是处理连续的数字，第一遍就没写好\n",
    "char c = arr[i];\n",
    "StringBuilder sb = new StringBuilder();\n",
    "if (Character.isDigit(c)) {\n",
    "    sb.append(c);\n",
    "    while (i + 1  < arr.length && Character.isDigit(arr[i+1]) {\n",
    "        //先加再append咯\n",
    "        i++;\n",
    "        sb.append(arr[i]);\n",
    "    }\n",
    "    res += sign * Integer.parseInt(sb.toString());\n",
    "}\n",
    "+, - 只需要变换一下sign\n",
    "(的话push两个东西并且reset\n",
    ")的话 res = pop*res + pop（）\n",
    "           \n",
    "           还是比较明朗的"
   ]
  },
  {
   "cell_type": "code",
   "execution_count": null,
   "metadata": {
    "collapsed": true
   },
   "outputs": [],
   "source": [
    "227.basic calculator 2 （这次是加减乘除，但是没有括号）\n",
    "不过也是用stack的，只是处理逻辑。。。比较绕（这些计算器的东西确实比较绕）"
   ]
  },
  {
   "cell_type": "code",
   "execution_count": null,
   "metadata": {
    "collapsed": true
   },
   "outputs": [],
   "source": [
    "341. flatten nested list (medium)\n",
    "??? 用个queue的话就加上dfs，不用queue用stack的话就用iterator咯"
   ]
  },
  {
   "cell_type": "code",
   "execution_count": null,
   "metadata": {
    "collapsed": true
   },
   "outputs": [],
   "source": [
    "251. flatten 2d vector\n",
    "这个一个隐晦的一点就是有可能中间有空的[]，如果先list的get再拿到iterator的话程序比较繁琐，所以可以借鉴一下用两个iterator：外层的和\n",
    "内层的\n",
    "总结一个比较漂亮的写法：\n",
    "Iterator<I>inner, Iterator<List<Integer>> outer\n",
    "constructor: outer = vec.iterator();\n",
    "next(): return inner.next();\n",
    "hasNext():\n",
    "    while ((inner == null || !inner.hasNext()) && outer.hasNext())\n",
    "        inner = outer.next().iterator();\n",
    "    return inner != null && inner.hasNext();"
   ]
  },
  {
   "cell_type": "code",
   "execution_count": null,
   "metadata": {
    "collapsed": true
   },
   "outputs": [],
   "source": [
    "71. simplify path\n",
    "几个注意点：\n",
    "1.corner case，/../返回/ （也就是如果deque里没东西了，直接返回根目录），////这种都删了\n",
    "2.split\n",
    "java里的split有两个版本，一个是带第二个参数的一个是默认为0的，0的话有几次匹配几次，比如////会去掉成为三个“”（空格），但是末尾的\n",
    "空格会erase掉；所以home///foo/// split以后是 home，“”，“”，foo； 如果带参数，整数的话是匹配（n-1）次，负数的话匹配全部但是不去末尾，\n",
    "0的话匹配全部去掉末尾\n",
    "然后就是deque了，能用这个就用吧。。。比stack好用\n",
    "pollFirst/Last, peekFirst/Last, addLast/First, offerLast/First\n",
    "\n",
    "\n",
    "还有就是\n",
    "非常interesting的一个地方：\n",
    "Queue<T> 用linkedlist implement以后，method没有了linkedlist那些东西？？（比如removeLast）之类的，只有queue的interface那些东西？？\n",
    "\n",
    "非常有趣的一个发现：\n",
    "\n",
    "刚发现这个问题\n",
    "Queue<T> queue = new LinkedList<>()，相当于后面的subclass了前面的interface，所以只能用里面的那些接口\n",
    "但是基本上所有的都subclass了collection，所以可以用collection的那些东西，比如.iterator(), 比如.size(), 比如.addAll(), 比如.add()\n"
   ]
  },
  {
   "cell_type": "code",
   "execution_count": null,
   "metadata": {
    "collapsed": true
   },
   "outputs": [],
   "source": [
    "刚发现stack也可以用迭代器从底部向顶部迭代拿出元素..."
   ]
  }
 ],
 "metadata": {
  "kernelspec": {
   "display_name": "Python 3",
   "language": "python",
   "name": "python3"
  },
  "language_info": {
   "codemirror_mode": {
    "name": "ipython",
    "version": 3
   },
   "file_extension": ".py",
   "mimetype": "text/x-python",
   "name": "python",
   "nbconvert_exporter": "python",
   "pygments_lexer": "ipython3",
   "version": "3.6.0"
  }
 },
 "nbformat": 4,
 "nbformat_minor": 2
}
