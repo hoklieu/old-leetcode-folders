{
 "cells": [
  {
   "cell_type": "code",
   "execution_count": null,
   "metadata": {
    "collapsed": true
   },
   "outputs": [],
   "source": [
    "49.grouping anagrams\n",
    "put()\n",
    "get的时候返回的是value的引用咯\n"
   ]
  },
  {
   "cell_type": "markdown",
   "metadata": {},
   "source": [
    "### 76.minimum substring window（这个题真的好）\n",
    "法一:hashmap + two pointers\n",
    "法二:因为只有128个字符，所以可以直接用两个int[256]代替hashmap(其实这里也可以只用一个，不过答案就是给了两种方法，都很好)\n",
    "\n",
    "都是two pointers\n",
    "\n",
    "还有的细节问题就是left的str在T里的时候，对应的减，只有减到小于T里面的hash value的时候才算count--（自己体会，这个题真的好）"
   ]
  },
  {
   "cell_type": "code",
   "execution_count": null,
   "metadata": {
    "collapsed": true
   },
   "outputs": [],
   "source": [
    "hashmap遍历的方法：\n",
    "统一用entrySet的iterator吧\n",
    "\n",
    "Iterator itor = map.entrySet().iterator();\n",
    "\n",
    "while (itor.hasNext) {\n",
    "    Map.Entry entry = (Map.Entry)itor.next;\n",
    "    Object key = entry.getKey();\n",
    "    Object value = entry.getValue();\n",
    "}\n"
   ]
  },
  {
   "cell_type": "code",
   "execution_count": null,
   "metadata": {
    "collapsed": true
   },
   "outputs": [],
   "source": [
    "347.most frequent k elements in an array\n",
    "有一点需要注意的地方：\n",
    "建立一个pq的时候的时间复杂度是nlogn，与题目的要求不符，所以这里不能用priorityqueue\n",
    "还是需要一个hashmap，但是在pq的时候用一个bucket记录frequency来代替后面的pq\n",
    "\n",
    "linkedlist有一个method：l.addAll(linkedlist a)\n",
    "把一个linkedlist的所有东西都加到一个已有的linkedlist后面"
   ]
  },
  {
   "cell_type": "code",
   "execution_count": null,
   "metadata": {
    "collapsed": true
   },
   "outputs": [],
   "source": [
    "451.sort characters by frequency\n",
    "keys:\n",
    "    StringBuilder.append(), StringBuilder.toString();\n",
    "    buckle sort可以把pq的复杂度（nlog（n））降到n（用List[] buckles = new List[s.length() + 1] 这里注意要长一点）\n",
    "    hm那里用一个method: hm.put(key,hm.getOrDefault(key, 0)+1)省去了判断语句\n",
    "    buckles那里:\n",
    "        if (buckles[fre] != null) //因为这里是object，list\n",
    "        buckles[fre] = new LinkedList<>();\n",
    "        buckles[fre].add(key);\n",
    "    \n",
    "    最后统计结果：\n",
    "    for (int i = buckes.length - 1; i > 0; i--) {\n",
    "        if (buckels[fre] != null) \n",
    "            for (T t : buckles[fre]) {\n",
    "                for (int k = 0; k < hm.get(t); k++)\n",
    "                    res.append(k);\n",
    "            }\n",
    "    }\n",
    "    return res.toString();\n",
    "done."
   ]
  },
  {
   "cell_type": "code",
   "execution_count": null,
   "metadata": {
    "collapsed": true
   },
   "outputs": [],
   "source": [
    "128. longest consecurive subsequence \n",
    "用个set，挺好的。"
   ]
  },
  {
   "cell_type": "code",
   "execution_count": null,
   "metadata": {
    "collapsed": true
   },
   "outputs": [],
   "source": [
    "159.Longest Substring with At Most Two Distinct Characters\n",
    "额第一个自己做出来的hard题，mark一下\n",
    "但是还是有些蛋疼的地方：\n",
    "如果一圈count不到3，最后还得test一下；\n",
    "这个的end什么时候加（while后面再加）\n",
    "反正就是即使觉得会做也要完完整整的展示出思路想一下corner case...."
   ]
  }
 ],
 "metadata": {
  "kernelspec": {
   "display_name": "Python 3",
   "language": "python",
   "name": "python3"
  },
  "language_info": {
   "codemirror_mode": {
    "name": "ipython",
    "version": 3
   },
   "file_extension": ".py",
   "mimetype": "text/x-python",
   "name": "python",
   "nbconvert_exporter": "python",
   "pygments_lexer": "ipython3",
   "version": "3.6.0"
  }
 },
 "nbformat": 4,
 "nbformat_minor": 2
}
