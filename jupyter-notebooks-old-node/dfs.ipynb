{
 "cells": [
  {
   "cell_type": "code",
   "execution_count": null,
   "metadata": {
    "collapsed": true
   },
   "outputs": [],
   "source": [
    "339. nested list weight sum（easy）\n",
    "这个题的接口要香明白为啥这么给，以及注意weight是从root到跟逐一递增，所以直接dfs搞定"
   ]
  },
  {
   "cell_type": "code",
   "execution_count": null,
   "metadata": {
    "collapsed": true
   },
   "outputs": [],
   "source": [
    "364. nested list weight sum（medium）\n",
    "这个题跟上一个题唯一的区别就是这个的weight是bottom-up递增的，\n",
    "\n",
    "这个题有毒。。这个depth跟一般的depth不是一回事儿...算出来最高层的然后往下depth-1就行了...\n",
    "\n",
    "所以难点是：如何确定每一个ni的depth？\n",
    "法一： （太骚了。。。） 不需要depth，每到下一层就把之前的那些已经iterate过的数再加一遍。。。 （perfect。。。） （bfs。。。）\n",
    "法二：  搞明白了它的depth定义就好做了....尴尬\n",
    "\n",
    "有一个问题需要注意一下，java给linkedlist是传一个引用的，之前我把list初始化在while的外面，最后nestedList = list的时候给了引用，所以相当于\n",
    "list一直在addAll,所以要每次new一个list（这个跟深拷贝浅拷贝还没什么关系。。。）\n",
    "class Solution {\n",
    "    public int depthSumInverse(List<NestedInteger> nestedList) {\n",
    "        if (nestedList == null || nestedList.size() == 0) {\n",
    "            return 0;\n",
    "        }\n",
    "        int unweighted = 0;\n",
    "        int weighted = 0;\n",
    "        while (nestedList.size() != 0) {\n",
    "            LinkedList<NestedInteger> list = new LinkedList<>();\n",
    "            for (NestedInteger n : nestedList) {\n",
    "                if (n.isInteger()) {\n",
    "                    unweighted += n.getInteger();\n",
    "                } else {\n",
    "                    list.addAll(n.getList());\n",
    "                }\n",
    "            }\n",
    "            weighted += unweighted;\n",
    "            nestedList = list;\n",
    "        }\n",
    "        return weighted;\n",
    "    }\n",
    "}"
   ]
  },
  {
   "cell_type": "code",
   "execution_count": null,
   "metadata": {
    "collapsed": true
   },
   "outputs": [],
   "source": [
    "79. word search 1\n",
    "记得在bfs之前mark掉当前的字符回来再mark回来..."
   ]
  },
  {
   "cell_type": "code",
   "execution_count": null,
   "metadata": {
    "collapsed": true
   },
   "outputs": [],
   "source": [
    "212. word search 2\n"
   ]
  }
 ],
 "metadata": {
  "kernelspec": {
   "display_name": "Python 3",
   "language": "python",
   "name": "python3"
  },
  "language_info": {
   "codemirror_mode": {
    "name": "ipython",
    "version": 3
   },
   "file_extension": ".py",
   "mimetype": "text/x-python",
   "name": "python",
   "nbconvert_exporter": "python",
   "pygments_lexer": "ipython3",
   "version": "3.6.0"
  }
 },
 "nbformat": 4,
 "nbformat_minor": 2
}
