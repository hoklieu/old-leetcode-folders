{
 "cells": [
  {
   "cell_type": "code",
   "execution_count": null,
   "metadata": {
    "collapsed": true
   },
   "outputs": [],
   "source": [
    "407. Trapping rain water 2\n",
    "这个题是so called 经典的pq题，里面细节很多需要注意：\n",
    "\n",
    "1.在class Solution里面写你的新类\n",
    "2.priority queue虽然默认的是minheap，不过你想保险起见也可以传进去comparator，写法如下：\n",
    "PriorityQueue<Cell> pq = new PriorityQueue<> (new Comparator<Cell>() {\n",
    "    public int compare(Cell c1, Cell c2) {\n",
    "        return c1.height - c2.height; //\n",
    "    }\n",
    "}\n",
    ");\n",
    "以上有几点需要注意：1.Comparator那里要表明类别\n",
    "2.compare一定！不能！忘了！public！ 必须要写全：\n",
    "public int compare()\n",
    "3.用compare的话，返回-1的东西在前面，所以这个就是升序（对应minheap）\n",
    "\n",
    "算法里要注意的地方：\n",
    "1.有一个boolean 的visit 矩阵来标记是否访问过\n",
    "2.有checkvalid的boolean helper function\n",
    "3.Most important：\n",
    "    放的时候要放Math.max(curr.height, 新格子的height）， 相当于如果没水就灌水，灌上了就更新高度！）\n",
    "                   加和的时候是sum+=Math.max(0, curr-cell.height); // 遇到高的了是负的自然就加0\n",
    "                   \n",
    "很明确的是一个格子只能被访问一次。被低的访问过了，如果填满了，那么即使周围有比之高的也不能再填了（最先遇到的min是制约）\n",
    "如果没填，也不管了（因为周围有低的，水只是从外向内流，后面在遇到也不会填了（因为溜出去了）"
   ]
  },
  {
   "cell_type": "code",
   "execution_count": null,
   "metadata": {
    "collapsed": true
   },
   "outputs": [],
   "source": [
    "重写比较器那里另外要注意的： 之前的pq是什么类型的，compare的两个参数就得是什么类型。比如是Integer, Character,\n",
    "就不能写int/char，必须要写成object类型的（要对应）"
   ]
  }
 ],
 "metadata": {
  "kernelspec": {
   "display_name": "Python 3",
   "language": "python",
   "name": "python3"
  },
  "language_info": {
   "codemirror_mode": {
    "name": "ipython",
    "version": 3
   },
   "file_extension": ".py",
   "mimetype": "text/x-python",
   "name": "python",
   "nbconvert_exporter": "python",
   "pygments_lexer": "ipython3",
   "version": "3.6.0"
  }
 },
 "nbformat": 4,
 "nbformat_minor": 2
}
