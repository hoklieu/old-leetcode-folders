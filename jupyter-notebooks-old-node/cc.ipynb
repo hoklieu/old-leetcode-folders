{
 "cells": [
  {
   "cell_type": "code",
   "execution_count": null,
   "metadata": {
    "collapsed": true
   },
   "outputs": [],
   "source": [
    "There is no direct SSH access to the S3 service that is exposed to users.\n",
    "要在本地install AWS CLI"
   ]
  },
  {
   "cell_type": "markdown",
   "metadata": {},
   "source": [
    "### AWS Command Line Tool (aws-cli)\n",
    "先aws --version看看是否正确安装\n",
    "(修改方式：\n",
    "vim ~/.basn_profile\n",
    "path后面添加:\n",
    "export PATH=~/.local/bin\n",
    "然后出来source一下"
   ]
  },
  {
   "cell_type": "code",
   "execution_count": null,
   "metadata": {
    "collapsed": true
   },
   "outputs": [],
   "source": [
    "sudo apt-get update (出现错误:cannot locate ..package)"
   ]
  },
  {
   "cell_type": "code",
   "execution_count": null,
   "metadata": {
    "collapsed": true
   },
   "outputs": [],
   "source": [
    "aws s3 mb s3://mybucket\n",
    "aws s3 ls s3://mybucket \n",
    "aws s3 cp text.txt s3://mybucket (还可以往下整)\n",
    "aws s3 cp s3://mybucket/text.txt to ./text.txt\n",
    "aws s3 rm s3://mybucket/text.txt (delete)\n",
    "aws s3 rb s3://mybucket (remove bucket) (--force)\n",
    "    "
   ]
  },
  {
   "cell_type": "code",
   "execution_count": null,
   "metadata": {
    "collapsed": true
   },
   "outputs": [],
   "source": [
    "--dry-run: don't run, just simply test a command line"
   ]
  },
  {
   "cell_type": "code",
   "execution_count": null,
   "metadata": {
    "collapsed": true
   },
   "outputs": [],
   "source": [
    "cloud watch:\n",
    "    \n",
    "(detailed clock好像要花钱)\n",
    "类似watch, top的指令啊"
   ]
  },
  {
   "cell_type": "code",
   "execution_count": null,
   "metadata": {
    "collapsed": true
   },
   "outputs": [],
   "source": [
    "### Microsoft Azure"
   ]
  },
  {
   "cell_type": "code",
   "execution_count": null,
   "metadata": {
    "collapsed": true
   },
   "outputs": [],
   "source": [
    "az login\n",
    "To sign in, use a web browser to open the page https://aka.ms/devicelogin and enter the code AAYHZ9NEM to authenticate.\n",
    "[\n",
    "  {\n",
    "    \"cloudName\": \"AzureCloud\",\n",
    "    \"id\": \"6e325a28-6f70-4a37-acbb-18e1acaf9f40\",\n",
    "    \"isDefault\": true,\n",
    "    \"name\": \"Microsoft Azure Sponsorship 2\",\n",
    "    \"state\": \"Enabled\",\n",
    "    \"tenantId\": \"bb7eda3c-e612-44d1-b667-5e40afe5a2b2\",\n",
    "    \"user\": {\n",
    "      \"name\": \"song51689@gmail.com\",\n",
    "      \"type\": \"user\"\n",
    "    }\n",
    "  }\n",
    "]"
   ]
  },
  {
   "cell_type": "code",
   "execution_count": null,
   "metadata": {
    "collapsed": true
   },
   "outputs": [],
   "source": [
    "az ad sp create-for-rbac --name hesongl --password \"Asong_89757\"\n",
    "Retrying role assignment creation: 1/36\n",
    "{\n",
    "  \"appId\": \"5b3a744b-1995-4ba5-a6cb-7fd99f73fdd2\",\n",
    "  \"displayName\": \"hesongl\",\n",
    "  \"name\": \"http://hesongl\",\n",
    "  \"password\": \"Asong_89757\",\n",
    "  \"tenant\": \"bb7eda3c-e612-44d1-b667-5e40afe5a2b2\"\n",
    "}"
   ]
  },
  {
   "cell_type": "code",
   "execution_count": null,
   "metadata": {
    "collapsed": true
   },
   "outputs": [],
   "source": [
    "In this section we are going to use the Azure CLI to copy an OS disk image from the course account to your account.\n",
    "This will be extremely useful later when you are working on Project 0 and Project 2 on Azure.\n",
    "Copying the image to your account is necessary in Azure if you need to create a virtual machine from \n",
    "pre-configured image. Follow these steps:"
   ]
  },
  {
   "cell_type": "code",
   "execution_count": null,
   "metadata": {
    "collapsed": true
   },
   "outputs": [],
   "source": [
    "Storage account name: azureprimer\n",
    "key1:hgrfRml5y4ivZGflE0f+TxY/4/vImcgHORS0p7AihbBSHB1/75ol5XPBHi1pIqgnnENoafTnCU21NbGI2AXLhw==\n",
    "connection string: DefaultEndpointsProtocol=https;AccountName=azureprimer;AccountKey=hgrfRml5y4ivZGflE0f+TxY/4/vImcgHORS0p7AihbBSHB1/75ol5XPBHi1pIqgnnENoafTnCU21NbGI2AXLhw==;EndpointSuffix=core.windows.net\n",
    "key2:uWeHemgcJX6IY/F87DtZz0dnQZuB0HqDaRrO9kfaXJKLiANaiIMUVo0tPHNX8NYVnvqdoPAwwZiG8K/h34fP8Q==\n",
    "connection string: DefaultEndpointsProtocol=https;AccountName=azureprimer;AccountKey=uWeHemgcJX6IY/F87DtZz0dnQZuB0HqDaRrO9kfaXJKLiANaiIMUVo0tPHNX8NYVnvqdoPAwwZiG8K/h34fP8Q==;EndpointSuffix=core.windows.net\n"
   ]
  },
  {
   "cell_type": "code",
   "execution_count": null,
   "metadata": {
    "collapsed": true
   },
   "outputs": [],
   "source": [
    "Now that you have a container in your storage account to hold the machine image, \n",
    "we'll copy the image from the course account to your account. \n",
    "This needs to be done because you can only create an osdisk from an image in the same storage account."
   ]
  },
  {
   "cell_type": "code",
   "execution_count": null,
   "metadata": {
    "collapsed": true
   },
   "outputs": [],
   "source": [
    "az login:\n",
    "[\n",
    "  {\n",
    "    \"cloudName\": \"AzureCloud\",\n",
    "    \"id\": \"6e325a28-6f70-4a37-acbb-18e1acaf9f40\",\n",
    "    \"isDefault\": true,\n",
    "    \"name\": \"Microsoft Azure Sponsorship 2\",\n",
    "    \"state\": \"Enabled\",\n",
    "    \"tenantId\": \"bb7eda3c-e612-44d1-b667-5e40afe5a2b2\",\n",
    "    \"user\": {\n",
    "      \"name\": \"song51689@gmail.com\",\n",
    "      \"type\": \"user\"\n",
    "    }\n",
    "  }\n",
    "]"
   ]
  },
  {
   "cell_type": "code",
   "execution_count": null,
   "metadata": {
    "collapsed": true
   },
   "outputs": [],
   "source": [
    "az storage blob copy start \\\n",
    "      --destination-blob Microsoft.Compute/Images/vhds/primertest-osDisk.7ec2e680-5a2f-462b-ba77-cd7b707389d4.vhd \\\n",
    "      --destination-container system \\\n",
    "      --account-key hgrfRml5y4ivZGflE0f+TxY/4/vImcgHORS0p7AihbBSHB1/75ol5XPBHi1pIqgnnENoafTnCU21NbGI2AXLhw== \\\n",
    "      --account-name azureprimer \\\n",
    "      --source-uri https://cc153915619.blob.core.windows.net/system/Microsoft.Compute/Images/vhds/primertest-osDisk.7ec2e680-5a2f-462b-ba77-cd7b707389d4.vhd"
   ]
  },
  {
   "cell_type": "code",
   "execution_count": null,
   "metadata": {
    "collapsed": true
   },
   "outputs": [],
   "source": [
    "az storage blob show \\\n",
    "      --name Microsoft.Compute/Images/vhds/primertest-osDisk.7ec2e680-5a2f-462b-ba77-cd7b707389d4.vhd \\\n",
    "      --container-name system \\\n",
    "      --account-name azureprimer \\\n",
    "      --account-key hgrfRml5y4ivZGflE0f+TxY/4/vImcgHORS0p7AihbBSHB1/75ol5XPBHi1pIqgnnENoafTnCU21NbGI2AXLhw==\n"
   ]
  },
  {
   "cell_type": "code",
   "execution_count": null,
   "metadata": {
    "collapsed": true
   },
   "outputs": [],
   "source": [
    "https://azureprimer.blob.core.windows.net/system/Microsoft.Compute/Images/vhds/primertest-osDisk.7ec2e680-5a2f-462b-ba77-cd7b707389d4.vhd"
   ]
  },
  {
   "cell_type": "markdown",
   "metadata": {},
   "source": [
    "### gcp\n"
   ]
  },
  {
   "cell_type": "code",
   "execution_count": null,
   "metadata": {
    "collapsed": true
   },
   "outputs": [],
   "source": [
    "project id: gcp-intro-178601\n",
    "    Isongsong:~ Eason_Lyu$ gcloud alpha projects list\n",
    "PROJECT_ID            NAME              PROJECT_NUMBER\n",
    "gcp-intro-178601      gcp-intro         236612222934\n",
    "named-indexer-178320  My First Project  327499927663"
   ]
  }
 ],
 "metadata": {
  "kernelspec": {
   "display_name": "Python 3",
   "language": "python",
   "name": "python3"
  },
  "language_info": {
   "codemirror_mode": {
    "name": "ipython",
    "version": 3
   },
   "file_extension": ".py",
   "mimetype": "text/x-python",
   "name": "python",
   "nbconvert_exporter": "python",
   "pygments_lexer": "ipython3",
   "version": "3.6.0"
  }
 },
 "nbformat": 4,
 "nbformat_minor": 2
}
